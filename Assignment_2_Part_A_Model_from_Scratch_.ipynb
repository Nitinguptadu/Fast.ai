{
  "nbformat": 4,
  "nbformat_minor": 0,
  "metadata": {
    "colab": {
      "name": "Assignment 2 Part A Model from Scratch .ipynb",
      "version": "0.3.2",
      "provenance": [],
      "collapsed_sections": [],
      "machine_shape": "hm"
    },
    "kernelspec": {
      "name": "python3",
      "display_name": "Python 3"
    },
    "accelerator": "TPU"
  },
  "cells": [
    {
      "cell_type": "markdown",
      "metadata": {
        "id": "KFW7ZyQccE-E",
        "colab_type": "text"
      },
      "source": [
        "Thanks a lot for your email and assignment. This assignment pushed me to work hard.\n",
        "\n",
        "----------------------------------------------------------------------\n",
        "Challenges \n",
        "\n",
        "1) Data was without Mapping\n",
        "\n",
        "2) Data Image has different  Height and Width and channel\n",
        "For solving upper two problem i have created a code for reshaping image\n",
        "and converting it into a grayscale image \n",
        "\n",
        "I Have also uploaded that code in Google colab Name as -- RGB IMAGE TO GRAYSCALE.ipynb\n",
        "\n",
        "Challenges\n",
        "\n",
        "3) For Defining best Batch size and learning I have created a code in pytorch using Tensor Board \n",
        "\n",
        "\n",
        "I Have also uploded that code in Google colab Name as -- Code for Defining Batch Size and Leraning Rate using pytorch and Tensor Board.ipynb\n",
        "\n",
        "----------------------------------------------------------------------\n",
        "\n",
        "Due to the large size of the data, Google Colab was crashing every time I train the model. So, I have manually deleted some of the data images and then trained the model.\n",
        "\n",
        "Train set consists of 11 different classes with data size of 3174\n",
        "\n",
        "Test set consists of 11 different classes with data size of 1088\n",
        "\n"
      ]
    },
    {
      "cell_type": "markdown",
      "metadata": {
        "id": "t_X-P5SKZe4E",
        "colab_type": "text"
      },
      "source": [
        "**Providing link to connect google Drive**"
      ]
    },
    {
      "cell_type": "code",
      "metadata": {
        "id": "aK9XL2a4Iebh",
        "colab_type": "code",
        "outputId": "c32d4374-fdf2-43fa-845a-50742916eb49",
        "colab": {
          "base_uri": "https://localhost:8080/",
          "height": 34
        }
      },
      "source": [
        "# Load the Drive helper and mount\n",
        "from google.colab import drive\n",
        "\n",
        "# This will prompt for authorization.\n",
        "drive.mount('/content/drive')"
      ],
      "execution_count": 0,
      "outputs": [
        {
          "output_type": "stream",
          "text": [
            "Drive already mounted at /content/drive; to attempt to forcibly remount, call drive.mount(\"/content/drive\", force_remount=True).\n"
          ],
          "name": "stdout"
        }
      ]
    },
    {
      "cell_type": "code",
      "metadata": {
        "id": "Kee_xqFmIe-q",
        "colab_type": "code",
        "outputId": "844d7b8e-ec96-4353-e7fc-918133b7b8b0",
        "colab": {
          "base_uri": "https://localhost:8080/",
          "height": 34
        }
      },
      "source": [
        "!ls \"/content/drive/My Drive/dataset\""
      ],
      "execution_count": 0,
      "outputs": [
        {
          "output_type": "stream",
          "text": [
            "Test  train\n"
          ],
          "name": "stdout"
        }
      ]
    },
    {
      "cell_type": "markdown",
      "metadata": {
        "id": "vy43BzgvZk_u",
        "colab_type": "text"
      },
      "source": [
        "**Importing Necessary module of deep learning**"
      ]
    },
    {
      "cell_type": "code",
      "metadata": {
        "id": "j7S-NA01IsZU",
        "colab_type": "code",
        "colab": {}
      },
      "source": [
        "# Imports here\n",
        "%matplotlib inline\n",
        "%config InlineBackend.figure_format = 'retina'\n",
        "import matplotlib.pyplot as plt\n",
        "\n",
        "import torch\n",
        "import numpy as np\n",
        "from torch import nn\n",
        "from torch import optim\n",
        "import torch.nn.functional as F\n",
        "from torchvision import datasets, transforms, models\n",
        "from PIL import Image\n",
        "from collections import OrderedDict\n",
        "import json\n",
        "import torchvision \n",
        "import torch\n",
        "import torch.nn as nn\n",
        "import torch.optim as optim\n",
        "import torch.nn.functional as F\n",
        "\n",
        "import torchvision\n",
        "import torchvision.transforms as transforms\n",
        "import pdb\n",
        "\n",
        "torch.set_printoptions(linewidth=120)\n",
        "torch.set_grad_enabled(True) \n",
        "from torch.utils.tensorboard import SummaryWriter\n"
      ],
      "execution_count": 0,
      "outputs": []
    },
    {
      "cell_type": "markdown",
      "metadata": {
        "id": "sxzLmdFbZp3S",
        "colab_type": "text"
      },
      "source": [
        "**Providing Path of Train Data**"
      ]
    },
    {
      "cell_type": "code",
      "metadata": {
        "id": "fi3EFCNaJMDz",
        "colab_type": "code",
        "colab": {}
      },
      "source": [
        "data_dir = \"/content/drive/My Drive/dataset/\"\n",
        "train_dir = data_dir + '/train'\n",
        "using_gpu = torch.cuda.is_available()"
      ],
      "execution_count": 0,
      "outputs": []
    },
    {
      "cell_type": "markdown",
      "metadata": {
        "id": "A2fKb7N0ZvxN",
        "colab_type": "text"
      },
      "source": [
        "**Loading data in Data set in pytorch with Normalizing data For Train Set**"
      ]
    },
    {
      "cell_type": "code",
      "metadata": {
        "id": "71yEp5fjJPlD",
        "colab_type": "code",
        "colab": {}
      },
      "source": [
        "train_set  = torchvision.datasets.ImageFolder(train_dir, \n",
        "                                        transform = transforms.Compose([transforms.ToTensor(),\n",
        "                                        transforms.Normalize([0.485, 0.456, 0.406], \n",
        "                                                            [0.229, 0.224, 0.225])])\n",
        "\n",
        " )"
      ],
      "execution_count": 0,
      "outputs": []
    },
    {
      "cell_type": "markdown",
      "metadata": {
        "id": "1hXv3lEKZz6S",
        "colab_type": "text"
      },
      "source": [
        "**Loading data in Data loader with batch size for Train Data Set**"
      ]
    },
    {
      "cell_type": "code",
      "metadata": {
        "id": "uj5FbC6VJbKl",
        "colab_type": "code",
        "colab": {}
      },
      "source": [
        "train_loader = torch.utils.data.DataLoader(train_set, batch_size=4, shuffle=True)"
      ],
      "execution_count": 0,
      "outputs": []
    },
    {
      "cell_type": "markdown",
      "metadata": {
        "id": "nQzZuN3rZ4IX",
        "colab_type": "text"
      },
      "source": [
        "**Defining classes for sub folders**"
      ]
    },
    {
      "cell_type": "code",
      "metadata": {
        "id": "eKU2X5bcJlYS",
        "colab_type": "code",
        "colab": {}
      },
      "source": [
        "classes = ('category 1','category 2','category 3','category 4','category 5','category 7',\n",
        "          'category 8','category 9','category 10','category 11')"
      ],
      "execution_count": 0,
      "outputs": []
    },
    {
      "cell_type": "markdown",
      "metadata": {
        "id": "0hSPbYGZO-4U",
        "colab_type": "text"
      },
      "source": [
        "Classes Descriptions\n",
        "\n",
        "1) Category 1  -- Men jeans Images\n",
        "\n",
        "2) Category 2  -- Men shoes\n",
        "\n",
        "3) Category 3  -- Men shorts\n",
        "\n",
        "4) Category 4  -- Men Tshirts\n",
        "\n",
        "5) Category 5  -- Men Underpants\n",
        "\n",
        "6) Category 7  -- Womens Wear\n",
        "\n",
        "7) Category 8  -- Women Upper Body innerwear\n",
        "\n",
        "8) Category 9  -- Women Dress\n",
        "\n",
        "9) Category 10 -- Women Jeans\n",
        "10 Category 11 -- women Lower Body Innerwear\n",
        "11)Category 12 -- Women Shoes \n"
      ]
    },
    {
      "cell_type": "markdown",
      "metadata": {
        "id": "W0rdwPFoZ8wb",
        "colab_type": "text"
      },
      "source": [
        "**Ploting pictures form train data set**\n",
        "\n",
        "If shows error run again it will run properly\n",
        "\n"
      ]
    },
    {
      "cell_type": "code",
      "metadata": {
        "id": "3kwwjPlPJonW",
        "colab_type": "code",
        "outputId": "13c229bb-247e-4626-af67-78ad1524f389",
        "colab": {
          "base_uri": "https://localhost:8080/",
          "height": 169
        }
      },
      "source": [
        "import matplotlib.pyplot as plt\n",
        "import numpy as np\n",
        "\n",
        "# functions to show an image\n",
        "\n",
        "\n",
        "def imshow(img):\n",
        "    img = img / 2 + 0.5     # unnormalize\n",
        "    npimg = img.numpy()\n",
        "    plt.imshow(np.transpose(npimg, (1, 2, 0)))\n",
        "\n",
        "\n",
        "# get some random training images\n",
        "dataiter = iter(train_loader)\n",
        "images, labels = dataiter.next()\n",
        "\n",
        "# show images\n",
        "imshow(torchvision.utils.make_grid(images))\n",
        "# print labels\n",
        "print(' '.join('%5s' % classes[labels[j]] for j in range(4)))"
      ],
      "execution_count": 0,
      "outputs": [
        {
          "output_type": "stream",
          "text": [
            "Clipping input data to the valid range for imshow with RGB data ([0..1] for floats or [0..255] for integers).\n"
          ],
          "name": "stderr"
        },
        {
          "output_type": "stream",
          "text": [
            "category 2 category 2 category 1 category 7\n"
          ],
          "name": "stdout"
        },
        {
          "output_type": "display_data",
          "data": {
            "image/png": "[encoded data removed]",
            "text/plain": [
              "<Figure size 432x288 with 1 Axes>"
            ]
          },
          "metadata": {
            "tags": [],
            "image/png": {
              "width": 377,
              "height": 118
            }
          }
        }
      ]
    },
    {
      "cell_type": "markdown",
      "metadata": {
        "id": "4JGCeA66aELr",
        "colab_type": "text"
      },
      "source": [
        "**Creating function for Get Num Correct**"
      ]
    },
    {
      "cell_type": "code",
      "metadata": {
        "id": "q_UJkqDEKL2H",
        "colab_type": "code",
        "colab": {}
      },
      "source": [
        "def get_num_correct(preds, labels):\n",
        "    return preds.argmax(dim=1).eq(labels).sum().item()\n"
      ],
      "execution_count": 0,
      "outputs": []
    },
    {
      "cell_type": "markdown",
      "metadata": {
        "id": "Zn9m81guaHc0",
        "colab_type": "text"
      },
      "source": [
        "**CNN Architecture**"
      ]
    },
    {
      "cell_type": "code",
      "metadata": {
        "id": "XjLqM88bKPZ3",
        "colab_type": "code",
        "colab": {}
      },
      "source": [
        "class Network(nn.Module):\n",
        "    def __init__(self):\n",
        "        super(Network,self).__init__()\n",
        "        self.conv1 = nn.Conv2d(3, 6, kernel_size=5)\n",
        "        self.conv2 = nn.Conv2d(6, 12, kernel_size=5)\n",
        "        self.conv2_drop = nn.Dropout2d()\n",
        "        self.fc1 = nn.Linear(12*197*197, 120)\n",
        "        self.fc2 = nn.Linear(120, 60)\n",
        "        self.fc3 = nn.Linear(60, 11)\n",
        "        \n",
        "\n",
        "\n",
        "    def forward(self, x):\n",
        "        x = F.relu(F.max_pool2d(self.conv1(x), 2))\n",
        "        x = F.relu(F.max_pool2d(self.conv2_drop(self.conv2(x)), 2))\n",
        "    # Reshaping the tensor to BATCH_SIZE x 320. Torch infers this from other dimensions when one of the parameter is -1.\n",
        "        x = x.view(-1, 12 * 197 * 197)\n",
        "        x = F.relu(self.fc1(x))\n",
        "        x = F.dropout(x)\n",
        "        x = F.relu(self.fc2(x))\n",
        "        x = F.dropout(x)\n",
        "        x = self.fc3(x)\n",
        "        \n",
        "        return x"
      ],
      "execution_count": 0,
      "outputs": []
    },
    {
      "cell_type": "code",
      "metadata": {
        "id": "_APlMKKWKR0b",
        "colab_type": "code",
        "colab": {}
      },
      "source": [
        "network = Network()"
      ],
      "execution_count": 0,
      "outputs": []
    },
    {
      "cell_type": "code",
      "metadata": {
        "id": "ImCafQUOKUaj",
        "colab_type": "code",
        "outputId": "30513bb5-bdd4-4b22-cd0a-1217bd8d0d2b",
        "colab": {
          "base_uri": "https://localhost:8080/",
          "height": 187
        }
      },
      "source": [
        "for name, param in network.named_parameters():\n",
        "    print(name,'\\t\\t',param.shape)"
      ],
      "execution_count": 0,
      "outputs": [
        {
          "output_type": "stream",
          "text": [
            "conv1.weight \t\t torch.Size([6, 3, 5, 5])\n",
            "conv1.bias \t\t torch.Size([6])\n",
            "conv2.weight \t\t torch.Size([12, 6, 5, 5])\n",
            "conv2.bias \t\t torch.Size([12])\n",
            "fc1.weight \t\t torch.Size([120, 465708])\n",
            "fc1.bias \t\t torch.Size([120])\n",
            "fc2.weight \t\t torch.Size([60, 120])\n",
            "fc2.bias \t\t torch.Size([60])\n",
            "fc3.weight \t\t torch.Size([11, 60])\n",
            "fc3.bias \t\t torch.Size([11])\n"
          ],
          "name": "stdout"
        }
      ]
    },
    {
      "cell_type": "markdown",
      "metadata": {
        "id": "tYjCed3QaLVY",
        "colab_type": "text"
      },
      "source": [
        "**For CNN we are using leraning rate = 0.001 and optimizer Adam Learning rate and batch size is defined by using pytorch and Tensor board (Assignment 2)**"
      ]
    },
    {
      "cell_type": "code",
      "metadata": {
        "id": "QsE1p5duKWa8",
        "colab_type": "code",
        "colab": {}
      },
      "source": [
        "train_loader = torch.utils.data.DataLoader(train_set, batch_size=100, shuffle=False)\n",
        "optimizer = optim.Adam(network.parameters(), lr=0.001)\n",
        "  "
      ],
      "execution_count": 0,
      "outputs": []
    },
    {
      "cell_type": "markdown",
      "metadata": {
        "id": "9_qdJYC8aWoZ",
        "colab_type": "text"
      },
      "source": [
        "**Training a model from scratch No of epoch == 60 & Loss function == Cross Entropy**"
      ]
    },
    {
      "cell_type": "code",
      "metadata": {
        "id": "HXjSPxrIKabH",
        "colab_type": "code",
        "outputId": "7377f57c-7fda-4803-d01c-47374bc2ba5a",
        "colab": {
          "base_uri": "https://localhost:8080/",
          "height": 1000
        }
      },
      "source": [
        "for epoch in range(60):\n",
        "\n",
        "    total_loss = 0\n",
        "    total_correct = 0\n",
        "\n",
        "    for batch in train_loader: # Get Batch # complete image in single epoch with \n",
        "                               # batch size 100 \n",
        "        images, labels = batch \n",
        "\n",
        "        preds = network(images) # Pass Batch\n",
        "        loss = F.cross_entropy(preds, labels) # Calculate Loss\n",
        "\n",
        "        optimizer.zero_grad() # doning zero grad value after every mini batch \n",
        "        loss.backward() # Calculate Gradients\n",
        "        optimizer.step() # Update Weights\n",
        "\n",
        "        total_loss += loss.item()\n",
        "        total_correct += get_num_correct(preds, labels)\n",
        "\n",
        "    print(\n",
        "        \"epoch\", epoch, \n",
        "        \"total_correct:\", total_correct, \n",
        "        \"loss:\", total_loss\n",
        "    )\n",
        "\n"
      ],
      "execution_count": 0,
      "outputs": [
        {
          "output_type": "stream",
          "text": [
            "epoch 0 total_correct: 275 loss: 425.55087691545486\n",
            "epoch 1 total_correct: 280 loss: 81.87995171546936\n",
            "epoch 2 total_correct: 286 loss: 81.69326043128967\n",
            "epoch 3 total_correct: 296 loss: 81.65716242790222\n",
            "epoch 4 total_correct: 300 loss: 81.57477355003357\n",
            "epoch 5 total_correct: 322 loss: 81.4687602519989\n",
            "epoch 6 total_correct: 390 loss: 80.9366295337677\n",
            "epoch 7 total_correct: 398 loss: 81.19059729576111\n",
            "epoch 8 total_correct: 408 loss: 81.07297480106354\n",
            "epoch 9 total_correct: 479 loss: 79.21301102638245\n",
            "epoch 10 total_correct: 590 loss: 76.95758831501007\n",
            "epoch 11 total_correct: 628 loss: 76.91562128067017\n",
            "epoch 12 total_correct: 683 loss: 74.08430874347687\n",
            "epoch 13 total_correct: 752 loss: 72.36165165901184\n",
            "epoch 14 total_correct: 933 loss: 69.5360072851181\n",
            "epoch 15 total_correct: 995 loss: 67.90716421604156\n",
            "epoch 16 total_correct: 1091 loss: 65.71789920330048\n",
            "epoch 17 total_correct: 1275 loss: 61.81019365787506\n",
            "epoch 18 total_correct: 1301 loss: 59.918092489242554\n",
            "epoch 19 total_correct: 1454 loss: 56.99104428291321\n",
            "epoch 20 total_correct: 1516 loss: 55.03290569782257\n",
            "epoch 21 total_correct: 1664 loss: 52.439454555511475\n",
            "epoch 22 total_correct: 1719 loss: 50.62845063209534\n",
            "epoch 23 total_correct: 1858 loss: 47.35378187894821\n",
            "epoch 24 total_correct: 2002 loss: 43.5007518529892\n",
            "epoch 25 total_correct: 2074 loss: 41.52108162641525\n",
            "epoch 26 total_correct: 2181 loss: 37.778721153736115\n",
            "epoch 27 total_correct: 2274 loss: 34.83682656288147\n",
            "epoch 28 total_correct: 2347 loss: 33.509831964969635\n",
            "epoch 29 total_correct: 2475 loss: 29.734030604362488\n",
            "epoch 30 total_correct: 2520 loss: 27.663147449493408\n",
            "epoch 31 total_correct: 2567 loss: 27.11253708600998\n",
            "epoch 32 total_correct: 2640 loss: 25.074165910482407\n",
            "epoch 33 total_correct: 2691 loss: 23.174393892288208\n",
            "epoch 34 total_correct: 2738 loss: 21.128194749355316\n",
            "epoch 35 total_correct: 2713 loss: 21.805884659290314\n",
            "epoch 36 total_correct: 2811 loss: 19.36327102780342\n",
            "epoch 37 total_correct: 2814 loss: 19.076773643493652\n",
            "epoch 38 total_correct: 2857 loss: 17.871500223875046\n",
            "epoch 39 total_correct: 2854 loss: 17.59644564986229\n",
            "epoch 40 total_correct: 2874 loss: 17.06188902258873\n",
            "epoch 41 total_correct: 2928 loss: 15.6851025223732\n",
            "epoch 42 total_correct: 2960 loss: 15.30090545117855\n",
            "epoch 43 total_correct: 2963 loss: 14.187029659748077\n",
            "epoch 44 total_correct: 3002 loss: 12.826596289873123\n",
            "epoch 45 total_correct: 3019 loss: 12.90187281370163\n",
            "epoch 46 total_correct: 3028 loss: 12.695152029395103\n",
            "epoch 47 total_correct: 3063 loss: 11.851852878928185\n",
            "epoch 48 total_correct: 3041 loss: 11.773966014385223\n",
            "epoch 49 total_correct: 3045 loss: 11.895822532474995\n",
            "epoch 50 total_correct: 3082 loss: 10.455433547496796\n",
            "epoch 51 total_correct: 3077 loss: 10.38192218542099\n",
            "epoch 52 total_correct: 3104 loss: 10.007723614573479\n",
            "epoch 53 total_correct: 3120 loss: 8.754045113921165\n",
            "epoch 54 total_correct: 3105 loss: 9.165724277496338\n",
            "epoch 55 total_correct: 3129 loss: 9.340901955962181\n",
            "epoch 56 total_correct: 3152 loss: 8.743112780153751\n",
            "epoch 57 total_correct: 3169 loss: 7.3060824275016785\n",
            "epoch 58 total_correct: 3137 loss: 8.648556731641293\n",
            "epoch 59 total_correct: 3137 loss: 8.642549209296703\n"
          ],
          "name": "stdout"
        }
      ]
    },
    {
      "cell_type": "markdown",
      "metadata": {
        "id": "mTyAM9j7ab_i",
        "colab_type": "text"
      },
      "source": [
        "**Providing Path of Test Data**"
      ]
    },
    {
      "cell_type": "code",
      "metadata": {
        "id": "XDnaSNUAJjaD",
        "colab_type": "code",
        "colab": {}
      },
      "source": [
        "data_dir = \"/content/drive/My Drive/dataset2/\"\n",
        "Test_dir = data_dir + '/test'"
      ],
      "execution_count": 0,
      "outputs": []
    },
    {
      "cell_type": "code",
      "metadata": {
        "id": "MLTPXhPHKPEh",
        "colab_type": "code",
        "outputId": "472ce1fa-a08e-4d45-996f-1e6d1beef00a",
        "colab": {
          "base_uri": "https://localhost:8080/",
          "height": 34
        }
      },
      "source": [
        "ls\"/content/drive/My Drive/dataset2\""
      ],
      "execution_count": 0,
      "outputs": [
        {
          "output_type": "stream",
          "text": [
            "\u001b[0m\u001b[01;34mtest\u001b[0m/  \u001b[01;34mtrain\u001b[0m/\n"
          ],
          "name": "stdout"
        }
      ]
    },
    {
      "cell_type": "markdown",
      "metadata": {
        "id": "8des2TJ-agdQ",
        "colab_type": "text"
      },
      "source": [
        "**Loading data in Data set in pytorch with Normalizing data For Test Set**"
      ]
    },
    {
      "cell_type": "code",
      "metadata": {
        "id": "h48AsPicKfXI",
        "colab_type": "code",
        "colab": {}
      },
      "source": [
        "Test_set  = torchvision.datasets.ImageFolder(Test_dir , \n",
        "                                        transform = transforms.Compose([transforms.ToTensor(),\n",
        "                                        transforms.Normalize([0.485, 0.456, 0.406], \n",
        "                                                            [0.229, 0.224, 0.225])])\n",
        "\n",
        " )"
      ],
      "execution_count": 0,
      "outputs": []
    },
    {
      "cell_type": "markdown",
      "metadata": {
        "id": "gdz81N_eamBZ",
        "colab_type": "text"
      },
      "source": [
        "**Loading data in Data loader with batch size for Train Data Set**"
      ]
    },
    {
      "cell_type": "code",
      "metadata": {
        "id": "8eqWLd3yKjum",
        "colab_type": "code",
        "colab": {}
      },
      "source": [
        "Test_loader = torch.utils.data.DataLoader(Test_set, batch_size=100, shuffle=True)"
      ],
      "execution_count": 0,
      "outputs": []
    },
    {
      "cell_type": "markdown",
      "metadata": {
        "id": "12AG-9mmaq0a",
        "colab_type": "text"
      },
      "source": [
        "Passing test data in model"
      ]
    },
    {
      "cell_type": "code",
      "metadata": {
        "id": "pd6HqVH0KfEF",
        "colab_type": "code",
        "colab": {}
      },
      "source": [
        "@torch.no_grad()\n",
        "def get_all_preds(model, loader):\n",
        "    all_preds = torch.tensor([])\n",
        "    for batch in prediction_loader:\n",
        "        images, labels = batch\n",
        "\n",
        "        preds = model(images)\n",
        "        all_preds = torch.cat((all_preds, preds),dim=0)\n",
        "    return all_preds"
      ],
      "execution_count": 0,
      "outputs": []
    },
    {
      "cell_type": "markdown",
      "metadata": {
        "id": "Tpp1Ka1caubH",
        "colab_type": "text"
      },
      "source": [
        "**Passing Test Data**"
      ]
    },
    {
      "cell_type": "code",
      "metadata": {
        "id": "gjLQ6639Kkdl",
        "colab_type": "code",
        "colab": {}
      },
      "source": [
        "with torch.no_grad():\n",
        "    prediction_loader = torch.utils.data.DataLoader(Test_set, batch_size=100,shuffle=False)\n",
        "    Test_preds = get_all_preds(network, prediction_loader)"
      ],
      "execution_count": 0,
      "outputs": []
    },
    {
      "cell_type": "code",
      "metadata": {
        "id": "mAPWtDpdKmPE",
        "colab_type": "code",
        "colab": {}
      },
      "source": [
        "import numpy\n",
        "Test_set.targets = torch.from_numpy(numpy.array(Test_set.targets, dtype='int64'))"
      ],
      "execution_count": 0,
      "outputs": []
    },
    {
      "cell_type": "markdown",
      "metadata": {
        "id": "zPFwu2kdayGI",
        "colab_type": "text"
      },
      "source": [
        "**Printing Result Getting accuracy 94 %**"
      ]
    },
    {
      "cell_type": "code",
      "metadata": {
        "id": "30wqV3CqKoO5",
        "colab_type": "code",
        "outputId": "0bcd85e1-5be4-4fdf-bd05-2da186fb4367",
        "colab": {
          "base_uri": "https://localhost:8080/",
          "height": 51
        }
      },
      "source": [
        "preds_correct = get_num_correct(Test_preds, Test_set.targets)\n",
        "\n",
        "print('total correct:', preds_correct)\n",
        "print('accuracy:', preds_correct / len(Test_set)*100)\n"
      ],
      "execution_count": 0,
      "outputs": [
        {
          "output_type": "stream",
          "text": [
            "total correct: 1258\n",
            "accuracy: 94.80030143180106\n"
          ],
          "name": "stdout"
        }
      ]
    },
    {
      "cell_type": "markdown",
      "metadata": {
        "id": "ebC-5O5Xa4X-",
        "colab_type": "text"
      },
      "source": [
        "**CNN Confusion Matrix with PyTorch**"
      ]
    },
    {
      "cell_type": "code",
      "metadata": {
        "id": "uqVLPCtWKp3q",
        "colab_type": "code",
        "colab": {}
      },
      "source": [
        " stacked = torch.stack(\n",
        "    (\n",
        "        test_set.targets\n",
        "        ,test_preds.argmax(dim=1)\n",
        "    )\n",
        "    ,dim=1\n",
        ")"
      ],
      "execution_count": 0,
      "outputs": []
    },
    {
      "cell_type": "code",
      "metadata": {
        "id": "hl6mB6mwKsa9",
        "colab_type": "code",
        "outputId": "3c7d95fc-7a74-49d7-c348-96832b1f5ff4",
        "colab": {
          "base_uri": "https://localhost:8080/",
          "height": 204
        }
      },
      "source": [
        "cmt = torch.zeros(11,11, dtype=torch.int64)\n",
        "cmt"
      ],
      "execution_count": 0,
      "outputs": [
        {
          "output_type": "execute_result",
          "data": {
            "text/plain": [
              "tensor([[0, 0, 0, 0, 0, 0, 0, 0, 0, 0, 0],\n",
              "        [0, 0, 0, 0, 0, 0, 0, 0, 0, 0, 0],\n",
              "        [0, 0, 0, 0, 0, 0, 0, 0, 0, 0, 0],\n",
              "        [0, 0, 0, 0, 0, 0, 0, 0, 0, 0, 0],\n",
              "        [0, 0, 0, 0, 0, 0, 0, 0, 0, 0, 0],\n",
              "        [0, 0, 0, 0, 0, 0, 0, 0, 0, 0, 0],\n",
              "        [0, 0, 0, 0, 0, 0, 0, 0, 0, 0, 0],\n",
              "        [0, 0, 0, 0, 0, 0, 0, 0, 0, 0, 0],\n",
              "        [0, 0, 0, 0, 0, 0, 0, 0, 0, 0, 0],\n",
              "        [0, 0, 0, 0, 0, 0, 0, 0, 0, 0, 0],\n",
              "        [0, 0, 0, 0, 0, 0, 0, 0, 0, 0, 0]])"
            ]
          },
          "metadata": {
            "tags": []
          },
          "execution_count": 165
        }
      ]
    },
    {
      "cell_type": "code",
      "metadata": {
        "id": "gfdZtggYKwo1",
        "colab_type": "code",
        "colab": {}
      },
      "source": [
        "for p in stacked:\n",
        "    tl, pl = p.tolist()\n",
        "    cmt[tl, pl] = cmt[tl, pl] + 1"
      ],
      "execution_count": 0,
      "outputs": []
    },
    {
      "cell_type": "code",
      "metadata": {
        "id": "md79fQ5sSSKe",
        "colab_type": "code",
        "outputId": "a4f89358-65e5-427c-be14-b86f1bc7d18a",
        "colab": {
          "base_uri": "https://localhost:8080/",
          "height": 204
        }
      },
      "source": [
        "cmt"
      ],
      "execution_count": 0,
      "outputs": [
        {
          "output_type": "execute_result",
          "data": {
            "text/plain": [
              "tensor([[ 28,   0,   1,   7,   2,   2,   1,   1,   4,   1,   6],\n",
              "        [  2,  98,   2,   0,   0,   1,   1,   0,   1,   0,   0],\n",
              "        [  1,   1,  57,   3,   9,   1,   2,   1,   6,   2,   1],\n",
              "        [  4,   1,   2,  65,   5,   2,   6,   3,   7,   5,   5],\n",
              "        [  1,   3,  13,   3,  76,   5,   4,   3,   4,   1,   1],\n",
              "        [  5,   3,   3,   4,   3,  46,   2,   6,   4,   1,  11],\n",
              "        [  3,   4,   1,   8,   1,   1,  58,   1,   4,   7,   3],\n",
              "        [  2,  13,  10,   3,   5,   4,   6,  12,  10,   1,   3],\n",
              "        [  2,   2,   4,   7,   5,   2,   3,   0, 106,   4,   5],\n",
              "        [  4,   5,   2,  16,   7,   5,  10,   5,   8,  62,   3],\n",
              "        [  7,   5,   2,  45,   1,   6,   1,   1,   8,   5,  20]])"
            ]
          },
          "metadata": {
            "tags": []
          },
          "execution_count": 171
        }
      ]
    },
    {
      "cell_type": "code",
      "metadata": {
        "id": "1fglChoBSydW",
        "colab_type": "code",
        "colab": {}
      },
      "source": [
        ""
      ],
      "execution_count": 0,
      "outputs": []
    }
  ]
}